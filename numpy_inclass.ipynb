{
 "cells": [
  {
   "cell_type": "markdown",
   "metadata": {},
   "source": [
    "Numpy Basics"
   ]
  },
  {
   "cell_type": "code",
   "execution_count": 3,
   "metadata": {},
   "outputs": [],
   "source": [
    "import numpy as np #np is an alias pointing to numpy = standard library for scientific computing"
   ]
  },
  {
   "cell_type": "markdown",
   "metadata": {},
   "source": [
    "1. Arrays"
   ]
  },
  {
   "cell_type": "code",
   "execution_count": null,
   "metadata": {},
   "outputs": [],
   "source": [
    "[[1,2,3],[1,2,3,[3,3,2]]] #a list can contain a list\n",
    "                            # flexible: can be a vector, a matrix"
   ]
  },
  {
   "cell_type": "code",
   "execution_count": 10,
   "metadata": {},
   "outputs": [
    {
     "name": "stdout",
     "output_type": "stream",
     "text": [
      "[1 2 3]\n",
      "a = \n",
      "[1 2 3]\n",
      "A = \n",
      "[[1 2 3]\n",
      " [1 2 3]]\n"
     ]
    }
   ],
   "source": [
    "a = np.array([1,2,3]) #create a 1D array\n",
    "print(a)\n",
    "type(a)\n",
    "a.shape\n",
    "\n",
    "A=np.array([[1,2,3],[1,2,3]])\n",
    "A.shape\n",
    "\n",
    "print(\"a = \", a, \"A = \", A, sep=\"\\n\")"
   ]
  },
  {
   "cell_type": "code",
   "execution_count": 15,
   "metadata": {},
   "outputs": [
    {
     "data": {
      "text/plain": [
       "array([3, 2, 1])"
      ]
     },
     "execution_count": 15,
     "metadata": {},
     "output_type": "execute_result"
    }
   ],
   "source": [
    "np.array([\"a\", \"4\", \"boat\"])\n",
    "np.array([3, 2, 1])\n",
    "np.array([3.0, 2.0, 1.0]) == np.array([3, 2, 1], dtype = np.int64) #python converges from integer to float\n",
    "np.array([3.98, 2, 1], dtype = np.int64) #careful with converting float into integer"
   ]
  },
  {
   "cell_type": "code",
   "execution_count": 24,
   "metadata": {},
   "outputs": [
    {
     "name": "stdout",
     "output_type": "stream",
     "text": [
      "[ True  True False] bool\n"
     ]
    },
    {
     "data": {
      "text/plain": [
       "array([False,  True,  True,  True,  True])"
      ]
     },
     "execution_count": 24,
     "metadata": {},
     "output_type": "execute_result"
    }
   ],
   "source": [
    "bool = np.array([3.0, 2.0, 1.0]) == np.array([3, 2, 2], dtype = np.int64)\n",
    "bool\n",
    "print(bool, bool.dtype)\n",
    "\n",
    "np.array([0,1,1.2,-3,0.001], dtype =np.bool) #everything except 0 is true\n",
    "np.array([1E-15,1,1.2,-3,0.001], dtype =np.bool) #integer exists to save capacity because float requires to save all decimals"
   ]
  },
  {
   "cell_type": "code",
   "execution_count": 33,
   "metadata": {},
   "outputs": [
    {
     "data": {
      "text/plain": [
       "array([[[  0.9,   0.9, 100. ,   0.9],\n",
       "        [  0.9,   0.9,   0.9,   0.9],\n",
       "        [  0.9,   0.9,   0.9,   0.9]],\n",
       "\n",
       "       [[  0.9,   0.9,   0.9,   0.9],\n",
       "        [  0.9,   0.9,   0.9,   0.9],\n",
       "        [  0.9,   0.9,   0.9,   0.9]]])"
      ]
     },
     "execution_count": 33,
     "metadata": {},
     "output_type": "execute_result"
    }
   ],
   "source": [
    "#exercise\n",
    "\n",
    "F = np.full((2,3,4), 0.9) #need to specify dimensions. here 2x3x4\n",
    "F[0,0,2] = 100\n",
    "F\n"
   ]
  },
  {
   "cell_type": "markdown",
   "metadata": {},
   "source": [
    "`np.empty_like` to create empty array like another array"
   ]
  },
  {
   "cell_type": "code",
   "execution_count": 37,
   "metadata": {},
   "outputs": [
    {
     "name": "stdout",
     "output_type": "stream",
     "text": [
      "[[[ 0.  1.  2.  3.]\n",
      "  [ 4.  5.  6.  7.]\n",
      "  [ 8.  9. 10. 11.]]\n",
      "\n",
      " [[12. 13. 14. 15.]\n",
      "  [16. 17. 18. 19.]\n",
      "  [20. 21. 22. 23.]]]\n"
     ]
    }
   ],
   "source": [
    "Z = np.empty_like(F)\n",
    "Z\n",
    "\n",
    "N = np.empty((2,3,4))\n",
    "\n",
    "                        # careful with those empty matrices because they display \"random\" numbers\n",
    "\n",
    "for i in range(2):\n",
    "    for j in range(3):\n",
    "        for k in range(4):            \n",
    "            N[i,j,k]= i *12 + j * 4 + k\n",
    "\n",
    "print(N)"
   ]
  },
  {
   "cell_type": "markdown",
   "metadata": {},
   "source": [
    "### Array indexing"
   ]
  },
  {
   "cell_type": "code",
   "execution_count": 51,
   "metadata": {},
   "outputs": [
    {
     "name": "stdout",
     "output_type": "stream",
     "text": [
      "[[1 2 3]\n",
      " [4 5 6]]\n",
      "[[100   2   3]\n",
      " [  4   5   6]]\n",
      "[[101   3   4]\n",
      " [  5   6   7]]\n",
      "[[1212   36   48]\n",
      " [  60   72   84]]\n",
      "[[ 30  36  42]\n",
      " [ 66  81  96]\n",
      " [102 126 150]]\n"
     ]
    }
   ],
   "source": [
    "A = np.matrix([[1,2,3],[4,5,6]])\n",
    "print(A)\n",
    "\n",
    "A[0,0] = 100 * A[0,0]\n",
    "print(A)\n",
    "\n",
    "A = A + 1\n",
    "print(A)\n",
    "\n",
    "A = A*12\n",
    "print(A)\n",
    "\n",
    "#A**2 # does not work because this multiplies the matrix by itself but a square matrix is required for this operation\n",
    " \n",
    "B = np.matrix([[1,2,3],[4,5,6],[7,8,9]])\n",
    "B=B**2 # if B was built with a np.array then the square would be elementwise \n",
    "\n",
    "print(B)"
   ]
  },
  {
   "cell_type": "code",
   "execution_count": 81,
   "metadata": {},
   "outputs": [
    {
     "data": {
      "text/plain": [
       "(matrix([[ 1,  2,  3,  4],\n",
       "         [ 5,  6,  7,  8],\n",
       "         [ 9, 10, 11, 12],\n",
       "         [13, 14, 15, 16]]),\n",
       " np.int64(16),\n",
       " matrix([[ 2,  3,  4],\n",
       "         [ 6,  7,  8],\n",
       "         [10, 11, 12],\n",
       "         [14, 15, 16]]),\n",
       " matrix([[16]]))"
      ]
     },
     "execution_count": 81,
     "metadata": {},
     "output_type": "execute_result"
    }
   ],
   "source": [
    "B = np.matrix([[1,2,3],[4,5,6],[7,8,9]])\n",
    "\n",
    "B >=3\n",
    "B <= 6\n",
    "\n",
    "B[(B >=3) & (B <= 6)]\n",
    "\n",
    "B, B[:,2], B[:-2,2]\n",
    "\n",
    "C = np.matrix([[1,2,3,4],[5,6,7,8],[9,10,11,12],[13,14,15,16]])\n",
    "C, C[3,3], C[:,1:4], C[-1:,-1:]"
   ]
  },
  {
   "cell_type": "code",
   "execution_count": 88,
   "metadata": {},
   "outputs": [
    {
     "data": {
      "text/plain": [
       "array([[0., 1., 0., 0.],\n",
       "       [0., 0., 1., 0.],\n",
       "       [0., 0., 0., 1.],\n",
       "       [0., 0., 0., 0.]])"
      ]
     },
     "execution_count": 88,
     "metadata": {},
     "output_type": "execute_result"
    }
   ],
   "source": [
    "Z = np.zeros((4,4))\n",
    "for i in range(3):\n",
    "    Z[i,i+1]=1 \n",
    "\n",
    "Z\n",
    "\n"
   ]
  },
  {
   "cell_type": "code",
   "execution_count": 93,
   "metadata": {},
   "outputs": [
    {
     "data": {
      "text/plain": [
       "array([[0., 1.],\n",
       "       [0., 0.]])"
      ]
     },
     "execution_count": 93,
     "metadata": {},
     "output_type": "execute_result"
    }
   ],
   "source": [
    "# a solution with a loop\n",
    "def make_shift_mat(n):\n",
    "    Z=np.zeros((n,n))\n",
    "    for i in range(n-1):\n",
    "        Z[i,i+1]=1\n",
    "\n",
    "    return Z\n",
    "\n",
    "make_shift_mat(2)"
   ]
  },
  {
   "cell_type": "code",
   "execution_count": 95,
   "metadata": {},
   "outputs": [
    {
     "data": {
      "text/plain": [
       "array([[0., 1., 0.],\n",
       "       [0., 0., 1.],\n",
       "       [0., 0., 0.]])"
      ]
     },
     "execution_count": 95,
     "metadata": {},
     "output_type": "execute_result"
    }
   ],
   "source": [
    "#an alternative way with slicing\n",
    "def make_shift_mat(n):\n",
    "    Z = np.zeros((n,n))\n",
    "    Z[np.arange(n-1), np.arange(1,n)] = 1\n",
    "    return Z\n",
    "\n",
    "make_shift_mat(3)"
   ]
  },
  {
   "cell_type": "code",
   "execution_count": 104,
   "metadata": {},
   "outputs": [
    {
     "name": "stderr",
     "output_type": "stream",
     "text": [
      "C:\\Users\\Maude\\AppData\\Local\\Temp\\ipykernel_17124\\2327979230.py:9: DeprecationWarning: Conversion of an array with ndim > 0 to a scalar is deprecated, and will error in future. Ensure you extract a single element from your array before performing this operation. (Deprecated NumPy 1.25.)\n",
      "  S_potent[0,0] = S_1\n"
     ]
    },
    {
     "data": {
      "text/plain": [
       "array([[0., 0., 0.],\n",
       "       [0., 0., 1.],\n",
       "       [0., 0., 0.]])"
      ]
     },
     "execution_count": 104,
     "metadata": {},
     "output_type": "execute_result"
    }
   ],
   "source": [
    "S_1 = make_shift_mat(1)\n",
    "S_1\n",
    "\n",
    "S_2 = make_shift_mat(2)\n",
    "S_2\n",
    "\n",
    "S_potent = np.zeros((1+2,1+2))\n",
    "S_potent\n",
    "S_potent[0,0] = S_1\n",
    "S_potent[1:3,1:3] = S_2\n",
    "S_potent"
   ]
  },
  {
   "cell_type": "code",
   "execution_count": 118,
   "metadata": {},
   "outputs": [],
   "source": [
    "def make_nilpotent_mat(list_of_int):\n",
    "    dim = sum(list_of_int)\n",
    "    counter = 0 \n",
    "\n",
    "    S = np.zeros((dim, dim))\n",
    "    for i in list_of_int:\n",
    "       S[counter:counter+i, counter:counter+i] = make_shift_mat(i)\n",
    "       counter += i\n",
    "    return S\n",
    "    "
   ]
  },
  {
   "cell_type": "code",
   "execution_count": 120,
   "metadata": {},
   "outputs": [
    {
     "data": {
      "text/plain": [
       "array([[0., 1., 0., 0., 0., 0., 0., 0., 0., 0., 0., 0.],\n",
       "       [0., 0., 0., 0., 0., 0., 0., 0., 0., 0., 0., 0.],\n",
       "       [0., 0., 0., 1., 0., 0., 0., 0., 0., 0., 0., 0.],\n",
       "       [0., 0., 0., 0., 1., 0., 0., 0., 0., 0., 0., 0.],\n",
       "       [0., 0., 0., 0., 0., 0., 0., 0., 0., 0., 0., 0.],\n",
       "       [0., 0., 0., 0., 0., 0., 1., 0., 0., 0., 0., 0.],\n",
       "       [0., 0., 0., 0., 0., 0., 0., 1., 0., 0., 0., 0.],\n",
       "       [0., 0., 0., 0., 0., 0., 0., 0., 1., 0., 0., 0.],\n",
       "       [0., 0., 0., 0., 0., 0., 0., 0., 0., 1., 0., 0.],\n",
       "       [0., 0., 0., 0., 0., 0., 0., 0., 0., 0., 1., 0.],\n",
       "       [0., 0., 0., 0., 0., 0., 0., 0., 0., 0., 0., 1.],\n",
       "       [0., 0., 0., 0., 0., 0., 0., 0., 0., 0., 0., 0.]])"
      ]
     },
     "execution_count": 120,
     "metadata": {},
     "output_type": "execute_result"
    }
   ],
   "source": [
    "make_nilpotent_mat([2,3,7])"
   ]
  },
  {
   "cell_type": "code",
   "execution_count": 117,
   "metadata": {},
   "outputs": [
    {
     "data": {
      "text/plain": [
       "array([[0., 1., 0., 0., 0., 0., 0., 0., 0., 0.],\n",
       "       [0., 0., 0., 0., 0., 0., 0., 0., 0., 0.],\n",
       "       [0., 0., 0., 1., 0., 0., 0., 0., 0., 0.],\n",
       "       [0., 0., 0., 0., 1., 0., 0., 0., 0., 0.],\n",
       "       [0., 0., 0., 0., 0., 0., 0., 0., 0., 0.],\n",
       "       [0., 0., 0., 0., 0., 0., 1., 0., 0., 0.],\n",
       "       [0., 0., 0., 0., 0., 0., 0., 1., 0., 0.],\n",
       "       [0., 0., 0., 0., 0., 0., 0., 0., 1., 0.],\n",
       "       [0., 0., 0., 0., 0., 0., 0., 0., 0., 1.],\n",
       "       [0., 0., 0., 0., 0., 0., 0., 0., 0., 0.]])"
      ]
     },
     "execution_count": 117,
     "metadata": {},
     "output_type": "execute_result"
    }
   ],
   "source": [
    "list_of_int = [2,3,5]\n",
    "counter_list = [0, 2, 5]\n",
    "dim = sum(list_of_int)\n",
    "counter = 0\n",
    "\n",
    "S = np.zeros((dim, dim))\n",
    "for n, i in enumerate(list_of_int):\n",
    "    S[counter:counter+i, counter:counter+i] = make_shift_mat(i)\n",
    "    counter += list_of_int[n]\n",
    "\n",
    "S\n"
   ]
  },
  {
   "cell_type": "code",
   "execution_count": 121,
   "metadata": {},
   "outputs": [
    {
     "name": "stdout",
     "output_type": "stream",
     "text": [
      "0\n",
      "10\n",
      "1\n",
      "5\n",
      "2\n",
      "20\n"
     ]
    }
   ],
   "source": [
    "list_of_int = [10, 5, 20]\n",
    "\n",
    "for n, val in enumerate(list_of_int):\n",
    "    print(n)\n",
    "    print(val)"
   ]
  },
  {
   "cell_type": "code",
   "execution_count": 111,
   "metadata": {},
   "outputs": [
    {
     "name": "stdout",
     "output_type": "stream",
     "text": [
      "range(0, 3)\n"
     ]
    }
   ],
   "source": [
    "print(range(3))"
   ]
  },
  {
   "cell_type": "code",
   "execution_count": 143,
   "metadata": {},
   "outputs": [
    {
     "name": "stdout",
     "output_type": "stream",
     "text": [
      "[[0. 0. 0. 0. 0. 0. 0. 0. 0.]\n",
      " [0. 0. 0. 0. 0. 0. 0. 0. 0.]\n",
      " [0. 0. 0. 0. 0. 0. 0. 0. 0.]\n",
      " [0. 0. 0. 0. 0. 0. 0. 0. 0.]\n",
      " [0. 0. 0. 0. 0. 0. 0. 0. 0.]\n",
      " [0. 0. 0. 0. 0. 0. 0. 0. 0.]\n",
      " [0. 0. 0. 0. 0. 0. 0. 0. 0.]\n",
      " [0. 0. 0. 0. 0. 0. 0. 0. 0.]\n",
      " [0. 0. 0. 0. 0. 0. 0. 0. 0.]]\n",
      "False\n",
      "4\n"
     ]
    }
   ],
   "source": [
    "S = make_nilpotent_mat([4,2,3])\n",
    "T=S\n",
    "counter = 1\n",
    "print(np.zeros(S.shape))\n",
    "print(np.all(T==np.zeros(S.shape)))\n",
    "\n",
    "for i in range(1000):\n",
    "    T=T@S\n",
    "    counter = counter+1\n",
    "    if np.all(T==np.zeros(S.shape)):\n",
    "        print(counter)\n",
    "        break"
   ]
  },
  {
   "cell_type": "code",
   "execution_count": 153,
   "metadata": {},
   "outputs": [],
   "source": [
    "def get_np_index(list_of_int):\n",
    "    S = make_nilpotent_mat(list_of_int)\n",
    "    T=S\n",
    "    counter = 1\n",
    "    #print(np.zeros(S.shape))\n",
    "    #print(np.all(T==np.zeros(S.shape)))\n",
    "\n",
    "    for i in range(1000):\n",
    "        T=T@S\n",
    "        counter = counter+1\n",
    "        if np.all(T==np.zeros(S.shape)):\n",
    "            return counter, T"
   ]
  },
  {
   "cell_type": "code",
   "execution_count": 163,
   "metadata": {},
   "outputs": [
    {
     "name": "stdout",
     "output_type": "stream",
     "text": [
      "(4, array([[0., 0., 0., 0., 0., 0., 0., 0., 0., 0.],\n",
      "       [0., 0., 0., 0., 0., 0., 0., 0., 0., 0.],\n",
      "       [0., 0., 0., 0., 0., 0., 0., 0., 0., 0.],\n",
      "       [0., 0., 0., 0., 0., 0., 0., 0., 0., 0.],\n",
      "       [0., 0., 0., 0., 0., 0., 0., 0., 0., 0.],\n",
      "       [0., 0., 0., 0., 0., 0., 0., 0., 0., 0.],\n",
      "       [0., 0., 0., 0., 0., 0., 0., 0., 0., 0.],\n",
      "       [0., 0., 0., 0., 0., 0., 0., 0., 0., 0.],\n",
      "       [0., 0., 0., 0., 0., 0., 0., 0., 0., 0.],\n",
      "       [0., 0., 0., 0., 0., 0., 0., 0., 0., 0.]]))\n"
     ]
    },
    {
     "data": {
      "text/plain": [
       "array([[0., 0., 0., 0., 0., 0., 0., 0., 0., 0.],\n",
       "       [0., 0., 0., 0., 0., 0., 0., 0., 0., 0.],\n",
       "       [0., 0., 0., 0., 0., 0., 0., 0., 0., 0.],\n",
       "       [0., 0., 0., 0., 0., 0., 0., 0., 0., 0.],\n",
       "       [0., 0., 0., 0., 0., 0., 0., 0., 0., 0.],\n",
       "       [0., 0., 0., 0., 0., 0., 0., 0., 0., 0.],\n",
       "       [0., 0., 0., 0., 0., 0., 0., 0., 0., 0.],\n",
       "       [0., 0., 0., 0., 0., 0., 0., 0., 0., 0.],\n",
       "       [0., 0., 0., 0., 0., 0., 0., 0., 0., 0.],\n",
       "       [0., 0., 0., 0., 0., 0., 0., 0., 0., 0.]])"
      ]
     },
     "execution_count": 163,
     "metadata": {},
     "output_type": "execute_result"
    }
   ],
   "source": [
    "k=get_np_index([4,2,4])\n",
    "print(k)\n",
    "M=make_nilpotent_mat([4,2,4])\n",
    "M@M@M@M"
   ]
  },
  {
   "cell_type": "code",
   "execution_count": 152,
   "metadata": {},
   "outputs": [
    {
     "name": "stdout",
     "output_type": "stream",
     "text": [
      "6\n"
     ]
    }
   ],
   "source": [
    "print(k)"
   ]
  }
 ],
 "metadata": {
  "kernelspec": {
   "display_name": "pp4rs_backup",
   "language": "python",
   "name": "python3"
  },
  "language_info": {
   "codemirror_mode": {
    "name": "ipython",
    "version": 3
   },
   "file_extension": ".py",
   "mimetype": "text/x-python",
   "name": "python",
   "nbconvert_exporter": "python",
   "pygments_lexer": "ipython3",
   "version": "3.12.5"
  }
 },
 "nbformat": 4,
 "nbformat_minor": 2
}
